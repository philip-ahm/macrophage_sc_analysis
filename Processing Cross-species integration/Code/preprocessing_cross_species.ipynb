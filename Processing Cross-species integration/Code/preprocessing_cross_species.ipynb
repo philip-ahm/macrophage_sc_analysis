{
 "cells": [
  {
   "cell_type": "code",
   "execution_count": 2,
   "metadata": {
    "vscode": {
     "languageId": "r"
    }
   },
   "outputs": [
    {
     "name": "stderr",
     "output_type": "stream",
     "text": [
      "Registered S3 method overwritten by 'SeuratDisk':\n",
      "  method            from  \n",
      "  as.sparse.H5Group Seurat\n",
      "\n"
     ]
    }
   ],
   "source": [
    "# Imports\n",
    "library(Seurat)\n",
    "library(SingleCellExperiment)\n",
    "library(SingleR)\n",
    "library(celldex)    \n",
    "library(ggplot2)\n",
    "library(clustree)\n",
    "library(gridExtra)\n",
    "library(stringr) \n",
    "library(scDblFinder)\n",
    "library(dplyr)\n",
    "library(SeuratDisk)\n",
    "\n",
    "# Change setting for visualizing plots within VSCODE\n",
    "options(repr.plot.width=20, repr.plot.height=12)"
   ]
  },
  {
   "cell_type": "code",
   "execution_count": 4,
   "metadata": {
    "vscode": {
     "languageId": "r"
    }
   },
   "outputs": [],
   "source": [
    "# Function to use ScDblFinder to find doublets\n",
    "remove_seurat_doublets <- function(seurat_object) {\n",
    "    # To be able to use ScDBIFinder, we need to convert it to SCE\n",
    "    sce_object <- as.SingleCellExperiment(seurat_object)\n",
    "    \n",
    "    # Run scDblFinder function\n",
    "    sce_object <- scDblFinder(sce_object)\n",
    "\n",
    "    # View table\n",
    "    table(sce_object$scDblFinder.class)\n",
    "\n",
    "    # as.Seurat needs logcounts but we dont want to calculate log counts, to trick we assume sce logcounts = counts\n",
    "    logcounts(sce_object) <- assay(sce_object, \"counts\")\n",
    "\n",
    "    # Convert SCE object back to Seurat\n",
    "    seurat_object <- as.Seurat(sce_object)\n",
    "    seurat_object <- subset(seurat_object, subset = scDblFinder.class == \"singlet\")\n",
    "    seurat_object[[\"RNA\"]] <- as(seurat_object[[\"RNA\"]], \"Assay5\")\n",
    "    return(seurat_object)\n",
    "}"
   ]
  },
  {
   "cell_type": "code",
   "execution_count": 6,
   "metadata": {
    "vscode": {
     "languageId": "r"
    }
   },
   "outputs": [
    {
     "data": {
      "text/html": [
       "<style>\n",
       ".list-inline {list-style: none; margin:0; padding: 0}\n",
       ".list-inline>li {display: inline-block}\n",
       ".list-inline>li:not(:last-child)::after {content: \"\\00b7\"; padding: 0 .5ex}\n",
       "</style>\n",
       "<ol class=list-inline><li>'all_mice_macrophages_annotated.rds'</li><li>'Bashore_raw.rds'</li><li>'Cochaine_raw.rds'</li><li>'Cochaine_raw_modified_orig.rds'</li><li>'Dib_and_Horstmann_macrophages_annotated.rds'</li><li>'Dib_macrophages_annotated.rds'</li><li>'Dib_raw.rds'</li><li>'Fernandez_raw.rds'</li><li>'Horstmann_macrophages_annotated.rds'</li><li>'Horstmann_raw.rds'</li><li>'Menno_raw.rds'</li><li>'menno_raw_postdoublet.rds'</li><li>'Vafadarnejad_raw.rds'</li><li>'Vafadarnejad_raw_modified_orig.rds'</li><li>'Winkels_raw.rds'</li><li>'Winkels_raw_modified_orig.rds'</li></ol>\n"
      ],
      "text/latex": [
       "\\begin{enumerate*}\n",
       "\\item 'all\\_mice\\_macrophages\\_annotated.rds'\n",
       "\\item 'Bashore\\_raw.rds'\n",
       "\\item 'Cochaine\\_raw.rds'\n",
       "\\item 'Cochaine\\_raw\\_modified\\_orig.rds'\n",
       "\\item 'Dib\\_and\\_Horstmann\\_macrophages\\_annotated.rds'\n",
       "\\item 'Dib\\_macrophages\\_annotated.rds'\n",
       "\\item 'Dib\\_raw.rds'\n",
       "\\item 'Fernandez\\_raw.rds'\n",
       "\\item 'Horstmann\\_macrophages\\_annotated.rds'\n",
       "\\item 'Horstmann\\_raw.rds'\n",
       "\\item 'Menno\\_raw.rds'\n",
       "\\item 'menno\\_raw\\_postdoublet.rds'\n",
       "\\item 'Vafadarnejad\\_raw.rds'\n",
       "\\item 'Vafadarnejad\\_raw\\_modified\\_orig.rds'\n",
       "\\item 'Winkels\\_raw.rds'\n",
       "\\item 'Winkels\\_raw\\_modified\\_orig.rds'\n",
       "\\end{enumerate*}\n"
      ],
      "text/markdown": [
       "1. 'all_mice_macrophages_annotated.rds'\n",
       "2. 'Bashore_raw.rds'\n",
       "3. 'Cochaine_raw.rds'\n",
       "4. 'Cochaine_raw_modified_orig.rds'\n",
       "5. 'Dib_and_Horstmann_macrophages_annotated.rds'\n",
       "6. 'Dib_macrophages_annotated.rds'\n",
       "7. 'Dib_raw.rds'\n",
       "8. 'Fernandez_raw.rds'\n",
       "9. 'Horstmann_macrophages_annotated.rds'\n",
       "10. 'Horstmann_raw.rds'\n",
       "11. 'Menno_raw.rds'\n",
       "12. 'menno_raw_postdoublet.rds'\n",
       "13. 'Vafadarnejad_raw.rds'\n",
       "14. 'Vafadarnejad_raw_modified_orig.rds'\n",
       "15. 'Winkels_raw.rds'\n",
       "16. 'Winkels_raw_modified_orig.rds'\n",
       "\n",
       "\n"
      ],
      "text/plain": [
       " [1] \"all_mice_macrophages_annotated.rds\"         \n",
       " [2] \"Bashore_raw.rds\"                            \n",
       " [3] \"Cochaine_raw.rds\"                           \n",
       " [4] \"Cochaine_raw_modified_orig.rds\"             \n",
       " [5] \"Dib_and_Horstmann_macrophages_annotated.rds\"\n",
       " [6] \"Dib_macrophages_annotated.rds\"              \n",
       " [7] \"Dib_raw.rds\"                                \n",
       " [8] \"Fernandez_raw.rds\"                          \n",
       " [9] \"Horstmann_macrophages_annotated.rds\"        \n",
       "[10] \"Horstmann_raw.rds\"                          \n",
       "[11] \"Menno_raw.rds\"                              \n",
       "[12] \"menno_raw_postdoublet.rds\"                  \n",
       "[13] \"Vafadarnejad_raw.rds\"                       \n",
       "[14] \"Vafadarnejad_raw_modified_orig.rds\"         \n",
       "[15] \"Winkels_raw.rds\"                            \n",
       "[16] \"Winkels_raw_modified_orig.rds\"              "
      ]
     },
     "metadata": {},
     "output_type": "display_data"
    },
    {
     "data": {
      "text/html": [
       "'c:/Users/phili/Desktop/BMW Jaar 3/Afstudeerscriptie/project_scriptie/Data/R Objects/Raw Seurat R Objects'"
      ],
      "text/latex": [
       "'c:/Users/phili/Desktop/BMW Jaar 3/Afstudeerscriptie/project\\_scriptie/Data/R Objects/Raw Seurat R Objects'"
      ],
      "text/markdown": [
       "'c:/Users/phili/Desktop/BMW Jaar 3/Afstudeerscriptie/project_scriptie/Data/R Objects/Raw Seurat R Objects'"
      ],
      "text/plain": [
       "[1] \"c:/Users/phili/Desktop/BMW Jaar 3/Afstudeerscriptie/project_scriptie/Data/R Objects/Raw Seurat R Objects\""
      ]
     },
     "metadata": {},
     "output_type": "display_data"
    },
    {
     "name": "stderr",
     "output_type": "stream",
     "text": [
      "Warning message:\n",
      "\"Layer 'data' is empty\"\n",
      "Warning message:\n",
      "\"Layer 'scale.data' is empty\"\n",
      "Creating ~2061 artificial doublets...\n",
      "\n",
      "Dimensional reduction\n",
      "\n",
      "Evaluating kNN...\n",
      "\n",
      "Training model...\n",
      "\n",
      "iter=0, 374 cells excluded from training.\n",
      "\n",
      "iter=1, 369 cells excluded from training.\n",
      "\n",
      "iter=2, 370 cells excluded from training.\n",
      "\n",
      "Threshold found:0.679\n",
      "\n",
      "140 (5.4%) doublets called\n",
      "\n",
      "Warning message:\n",
      "\"Assay RNA changing from Assay to Assay5\"\n",
      "Warning message:\n",
      "\"Layer 'data' is empty\"\n",
      "Warning message:\n",
      "\"Layer 'scale.data' is empty\"\n",
      "Creating ~1500 artificial doublets...\n",
      "\n",
      "Dimensional reduction\n",
      "\n",
      "Evaluating kNN...\n",
      "\n",
      "Training model...\n",
      "\n",
      "iter=0, 92 cells excluded from training.\n",
      "\n",
      "iter=1, 86 cells excluded from training.\n",
      "\n",
      "iter=2, 82 cells excluded from training.\n",
      "\n",
      "Threshold found:0.655\n",
      "\n",
      "36 (3.9%) doublets called\n",
      "\n",
      "Warning message:\n",
      "\"Assay RNA changing from Assay to Assay5\"\n",
      "Warning message:\n",
      "\"Layer 'data' is empty\"\n",
      "Warning message:\n",
      "\"Layer 'scale.data' is empty\"\n",
      "Creating ~2833 artificial doublets...\n",
      "\n",
      "Dimensional reduction\n",
      "\n",
      "Evaluating kNN...\n",
      "\n",
      "Training model...\n",
      "\n",
      "iter=0, 437 cells excluded from training.\n",
      "\n",
      "iter=1, 475 cells excluded from training.\n",
      "\n",
      "iter=2, 477 cells excluded from training.\n",
      "\n",
      "Threshold found:0.723\n",
      "\n",
      "251 (7.1%) doublets called\n",
      "\n",
      "Warning message:\n",
      "\"Assay RNA changing from Assay to Assay5\"\n"
     ]
    }
   ],
   "source": [
    "# Get mice data\n",
    "# Set wd\n",
    "setwd(\"../../../Data/R Objects/Raw Seurat R Objects\")\n",
    "list.files()\n",
    "getwd()\n",
    "\n",
    "# Read in data\n",
    "Cochaine <- readRDS(\"Cochaine_raw_modified_orig.rds\")\n",
    "Vafadarnejad <- readRDS(\"Vafadarnejad_raw_modified_orig.rds\")\n",
    "Winkels <- readRDS(\"Winkels_raw_modified_orig.rds\")\n",
    "\n",
    "# For the following layers to work, we first need to JoinLayers of each individual object\n",
    "# Merge layers\n",
    "Cochaine[[\"RNA\"]] <- JoinLayers(Cochaine[[\"RNA\"]])\n",
    "Vafadarnejad[[\"RNA\"]] <- JoinLayers(Vafadarnejad[[\"RNA\"]])\n",
    "Winkels[[\"RNA\"]] <- JoinLayers(Winkels[[\"RNA\"]])\n",
    "\n",
    "# Remove doublets from individual samples\n",
    "# To add reproducability in the future, consider adding BPARAM = bp, where bp = Multicore(n, seed)\n",
    "Cochaine <- remove_seurat_doublets(Cochaine)\n",
    "Vafadarnejad <- remove_seurat_doublets(Vafadarnejad)\n",
    "Winkels <- remove_seurat_doublets(Winkels)\n",
    "\n",
    "# Winkels has gene names in caps, so we need to fix that \n",
    "rownames(Winkels) <- tolower(rownames(Winkels))\n",
    "rownames(Winkels) <- str_to_title(rownames(Winkels))\n",
    "\n",
    "# Change this later\n",
    "rownames(Winkels) <- ifelse(grepl(\"^Mt-\", rownames(Winkels)), tolower(rownames(Winkels)), rownames(Winkels))\n",
    "\n",
    "\n",
    "# Merge the Seurat objects\n",
    "mouse_samples <- merge(Cochaine, y=list(Vafadarnejad, Winkels))\n",
    "\n",
    "# Merge layers\n",
    "mouse_samples[[\"RNA\"]] <- JoinLayers(mouse_samples[[\"RNA\"]])\n",
    "mouse_samples$species <- \"Mouse\""
   ]
  },
  {
   "cell_type": "code",
   "execution_count": 8,
   "metadata": {
    "vscode": {
     "languageId": "r"
    }
   },
   "outputs": [
    {
     "name": "stderr",
     "output_type": "stream",
     "text": [
      "Validating object structure\n",
      "\n",
      "Updating object slots\n",
      "\n",
      "Ensuring keys are in the proper structure\n",
      "\n",
      "Ensuring keys are in the proper structure\n",
      "\n",
      "Ensuring feature names don't have underscores or pipes\n",
      "\n",
      "Updating slots in RNA\n",
      "\n",
      "Validating object structure for Assay 'RNA'\n",
      "\n",
      "Object representation is consistent with the most current Seurat version\n",
      "\n"
     ]
    }
   ],
   "source": [
    "# Get human data\n",
    "# Read datasets\n",
    "horstmann <- readRDS(\"Horstmann_raw.rds\")\n",
    "fernandez <- readRDS(\"Fernandez_raw.rds\")\n",
    "menno <- readRDS(\"menno_raw_postdoublet.rds\")\n",
    "bashore <- readRDS(\"Bashore_raw.rds\")\n",
    "Dib <- readRDS(\"Dib_raw.rds\")\n",
    "\n",
    "# Dib RDS object was converted to v3 instead of v5 by schard\n",
    "Dib <- UpdateSeuratObject(Dib)\n",
    "\n",
    "# Split by patient\n",
    "splitted_dib <- SplitObject(Dib, split.by = \"patient\")\n",
    "\n",
    "# Assign patient objects \n",
    "splitted_dib$P1$orig.ident <- \"Dib et al. (2022), P1\"\n",
    "splitted_dib$P2$orig.ident <- \"Dib et al. (2022), P2\"\n",
    "splitted_dib$P3$orig.ident <- \"Dib et al. (2022), P3\"\n",
    "splitted_dib$P5$orig.ident <- \"Dib et al. (2022), P5\"\n",
    "splitted_dib$P6$orig.ident <- \"Dib et al. (2022), P6\"\n",
    "splitted_dib$P7$orig.ident <- \"Dib et al. (2022), P7\"\n",
    "\n",
    "# Merge the Seurat objects\n",
    "dib <- merge(splitted_dib$P1, y=list(splitted_dib$P2, splitted_dib$P3, splitted_dib$P5, splitted_dib$P6, splitted_dib$P7))"
   ]
  },
  {
   "cell_type": "code",
   "execution_count": null,
   "metadata": {
    "vscode": {
     "languageId": "r"
    }
   },
   "outputs": [
    {
     "name": "stderr",
     "output_type": "stream",
     "text": [
      "Warning message in .checkSCE(sce, coerce = is.null(samples)):\n",
      "\"Some cells in `sce` have an extremely low read counts; note that these could trigger errors and might best be filtered out\"\n",
      "Warning message in scDblFinder(sce_object):\n",
      "\"You are trying to run scDblFinder on a very large number of cells. If these are from different captures, please specify this using the `samples` argument.TRUE\"\n",
      "Creating ~25000 artificial doublets...\n",
      "\n",
      "Dimensional reduction\n",
      "\n",
      "Evaluating kNN...\n",
      "\n",
      "Training model...\n",
      "\n",
      "iter=0, 6765 cells excluded from training.\n",
      "\n",
      "iter=1, 7367 cells excluded from training.\n",
      "\n",
      "iter=2, 7466 cells excluded from training.\n",
      "\n",
      "Threshold found:0.424\n",
      "\n",
      "4680 (13.6%) doublets called\n",
      "\n",
      "Warning message:\n",
      "\"Assay RNA changing from Assay to Assay5\"\n",
      "Warning message:\n",
      "\"Layer 'data' is empty\"\n",
      "Warning message:\n",
      "\"Layer 'scale.data' is empty\"\n",
      "Creating ~4544 artificial doublets...\n",
      "\n",
      "Dimensional reduction\n",
      "\n",
      "Evaluating kNN...\n",
      "\n",
      "Training model...\n",
      "\n",
      "iter=0, 573 cells excluded from training.\n",
      "\n",
      "iter=1, 526 cells excluded from training.\n",
      "\n",
      "iter=2, 531 cells excluded from training.\n",
      "\n",
      "Threshold found:0.386\n",
      "\n",
      "448 (7.9%) doublets called\n",
      "\n",
      "Warning message:\n",
      "\"Assay RNA changing from Assay to Assay5\"\n",
      "Warning message:\n",
      "\"Layer 'data' is empty\"\n",
      "Warning message:\n",
      "\"Layer 'scale.data' is empty\"\n",
      "Warning message in scDblFinder(sce_object):\n",
      "\"You are trying to run scDblFinder on a very large number of cells. If these are from different captures, please specify this using the `samples` argument.TRUE\"\n",
      "Creating ~25000 artificial doublets...\n",
      "\n",
      "Dimensional reduction\n",
      "\n",
      "Evaluating kNN...\n",
      "\n",
      "Training model...\n",
      "\n",
      "iter=0, 10422 cells excluded from training.\n",
      "\n",
      "iter=1, 14500 cells excluded from training.\n",
      "\n",
      "iter=2, 14823 cells excluded from training.\n",
      "\n",
      "Threshold found:0.038\n",
      "\n",
      "10761 (19.3%) doublets called\n",
      "\n",
      "Warning message:\n",
      "\"Assay RNA changing from Assay to Assay5\"\n"
     ]
    }
   ],
   "source": [
    "# Get human data (This step has to be chunked in 2 cell blocks, else my VSCode will crash)\n",
    "# Removing Doublets\n",
    "dib <- remove_seurat_doublets(dib)\n",
    "fernandez <- remove_seurat_doublets(fernandez)\n",
    "bashore <- remove_seurat_doublets(bashore)"
   ]
  },
  {
   "cell_type": "code",
   "execution_count": 10,
   "metadata": {
    "vscode": {
     "languageId": "r"
    }
   },
   "outputs": [
    {
     "name": "stderr",
     "output_type": "stream",
     "text": [
      "Warning message:\n",
      "\"Layer 'data' is empty\"\n",
      "Warning message:\n",
      "\"Layer 'scale.data' is empty\"\n",
      "Warning message in scDblFinder(sce_object):\n",
      "\"You are trying to run scDblFinder on a very large number of cells. If these are from different captures, please specify this using the `samples` argument.TRUE\"\n",
      "Creating ~25000 artificial doublets...\n",
      "\n",
      "Dimensional reduction\n",
      "\n",
      "Evaluating kNN...\n",
      "\n",
      "Training model...\n",
      "\n",
      "iter=0, 8261 cells excluded from training.\n",
      "\n",
      "iter=1, 8806 cells excluded from training.\n",
      "\n",
      "iter=2, 8609 cells excluded from training.\n",
      "\n",
      "Threshold found:0.388\n",
      "\n",
      "5841 (15.8%) doublets called\n",
      "\n",
      "Warning message:\n",
      "\"Assay RNA changing from Assay to Assay5\"\n"
     ]
    }
   ],
   "source": [
    "# Get human data (This step has to be chunked, else my VSCode will crash)\n",
    "# Removing Doublets\n",
    "horstmann <- remove_seurat_doublets(horstmann)"
   ]
  },
  {
   "cell_type": "code",
   "execution_count": 12,
   "metadata": {
    "vscode": {
     "languageId": "r"
    }
   },
   "outputs": [
    {
     "name": "stderr",
     "output_type": "stream",
     "text": [
      "Warning message:\n",
      "\"Some cell names are duplicated across objects provided. Renaming to enforce unique cell names.\"\n"
     ]
    }
   ],
   "source": [
    "# Merge the Seurat objects\n",
    "human_samples <- merge(fernandez, y=list(horstmann, menno, bashore, dib)) #, dib_p1, dib_p2, dib_p3, dib_p5, dib_p6, dib_p7))\n",
    "\n",
    "# Merge layers\n",
    "human_samples[[\"RNA\"]] <- JoinLayers(human_samples[[\"RNA\"]], f = human_samples$orig.ident)\n",
    "human_samples$species <- \"Human\""
   ]
  },
  {
   "cell_type": "code",
   "execution_count": 13,
   "metadata": {
    "vscode": {
     "languageId": "r"
    }
   },
   "outputs": [
    {
     "name": "stderr",
     "output_type": "stream",
     "text": [
      "Splitting 'counts', 'data' layers. Not splitting . If you would like to split other layers, set in `layers` argument.\n",
      "\n",
      "Splitting 'counts', 'data' layers. Not splitting . If you would like to split other layers, set in `layers` argument.\n",
      "\n"
     ]
    }
   ],
   "source": [
    "# QC to remove low-quality cells\n",
    "qc <- function(data, nFeatures_RNA = 200, nCounts_RNA = 3, percents.mt = 15, pattern = \"MT\") {\n",
    "    # Split\n",
    "    data[[\"RNA\"]] <- split(data[[\"RNA\"]], f = data$orig.ident)\n",
    "\n",
    "    # Get percentage mt                      \n",
    "    data[[\"percent.mt\"]] <- PercentageFeatureSet(data, pattern = sprintf(\"^%s-\", pattern))\n",
    "\n",
    "    # Subsets\n",
    "    data <- subset(x = data, subset = nFeature_RNA >= nFeatures_RNA & nCount_RNA >= nCounts_RNA & percent.mt <= percents.mt)\n",
    "\n",
    "    # Rejoin layers\n",
    "    data[[\"RNA\"]] <- JoinLayers(data[[\"RNA\"]])\n",
    "\n",
    "    return(data)\n",
    "}\n",
    "\n",
    "# Removing low-quality cells\n",
    "mouse_samples <- qc(mouse_samples, pattern= \"mt\")\n",
    "human_samples <- qc(human_samples, pattern= \"MT\", percents.mt = 15)"
   ]
  },
  {
   "cell_type": "code",
   "execution_count": 16,
   "metadata": {
    "vscode": {
     "languageId": "r"
    }
   },
   "outputs": [
    {
     "name": "stderr",
     "output_type": "stream",
     "text": [
      "Warning message:\n",
      "\"No layers found matching search pattern provided\"\n",
      "Warning message:\n",
      "\"No layers found matching search pattern provided\"\n",
      "Warning message:\n",
      "\"Layer 'scale.data' is empty\"\n",
      "Warning message:\n",
      "\"Key 'rna_' taken, using 'rna3_' instead\"\n",
      "Renaming default assay from RNA3 to RNA\n",
      "\n",
      "Warning message:\n",
      "\"Key 'rna3_' taken, using 'rna_' instead\"\n"
     ]
    }
   ],
   "source": [
    "# Convert to V3\n",
    "mouse_samples[[\"RNA3\"]] <- as(object = mouse_samples[[\"RNA\"]], Class = \"Assay\")\n",
    "DefaultAssay(mouse_samples) <- \"RNA3\"\n",
    "mouse_samples[[\"RNA\"]] <- NULL\n",
    "mouse_samples <- RenameAssays(object = mouse_samples, RNA3 = 'RNA')"
   ]
  },
  {
   "cell_type": "code",
   "execution_count": 18,
   "metadata": {
    "vscode": {
     "languageId": "r"
    }
   },
   "outputs": [
    {
     "name": "stderr",
     "output_type": "stream",
     "text": [
      "Creating h5Seurat file for version 3.1.5.9900\n",
      "\n",
      "Adding counts for RNA\n",
      "\n",
      "Adding data for RNA\n",
      "\n",
      "No variable features found for RNA\n",
      "\n",
      "Adding feature-level metadata for RNA\n",
      "\n",
      "Validating h5Seurat file\n",
      "\n",
      "Adding data from RNA as X\n",
      "\n",
      "Transfering meta.features to var\n",
      "\n",
      "Adding counts from RNA as raw\n",
      "\n",
      "Transfering meta.features to raw/var\n",
      "\n",
      "Transfering meta.data to obs\n",
      "\n"
     ]
    }
   ],
   "source": [
    "# Convert mice to h5ad\n",
    "SaveH5Seurat(mouse_samples, filename = \"mouse_samples2.h5Seurat\")\n",
    "Convert(\"mouse_samples2.h5Seurat\", dest = \"h5ad\")"
   ]
  },
  {
   "cell_type": "code",
   "execution_count": 19,
   "metadata": {
    "vscode": {
     "languageId": "r"
    }
   },
   "outputs": [
    {
     "name": "stderr",
     "output_type": "stream",
     "text": [
      "Warning message:\n",
      "\"No layers found matching search pattern provided\"\n",
      "Warning message:\n",
      "\"No layers found matching search pattern provided\"\n",
      "Warning message:\n",
      "\"Layer 'scale.data' is empty\"\n",
      "Warning message:\n",
      "\"Key 'rna_' taken, using 'rna3_' instead\"\n",
      "Renaming default assay from RNA3 to RNA\n",
      "\n",
      "Warning message:\n",
      "\"Key 'rna3_' taken, using 'rna_' instead\"\n"
     ]
    }
   ],
   "source": [
    "# Convert to V3\n",
    "human_samples[[\"RNA3\"]] <- as(object = human_samples[[\"RNA\"]], Class = \"Assay\")\n",
    "DefaultAssay(human_samples) <- \"RNA3\"\n",
    "human_samples[[\"RNA\"]] <- NULL\n",
    "human_samples <- RenameAssays(object = human_samples, RNA3 = 'RNA')"
   ]
  },
  {
   "cell_type": "code",
   "execution_count": 20,
   "metadata": {
    "vscode": {
     "languageId": "r"
    }
   },
   "outputs": [
    {
     "name": "stderr",
     "output_type": "stream",
     "text": [
      "Creating h5Seurat file for version 3.1.5.9900\n",
      "\n",
      "Adding counts for RNA\n",
      "\n",
      "Adding data for RNA\n",
      "\n",
      "No variable features found for RNA\n",
      "\n",
      "Adding feature-level metadata for RNA\n",
      "\n",
      "Validating h5Seurat file\n",
      "\n",
      "Adding data from RNA as X\n",
      "\n",
      "Transfering meta.features to var\n",
      "\n",
      "Adding counts from RNA as raw\n",
      "\n",
      "Transfering meta.features to raw/var\n",
      "\n",
      "Transfering meta.data to obs\n",
      "\n"
     ]
    }
   ],
   "source": [
    "# Convert human to h5ad\n",
    "SaveH5Seurat(human_samples, filename = \"human_samples.h5Seurat\")\n",
    "Convert(\"human_samples.h5Seurat\", dest = \"h5ad\")"
   ]
  },
  {
   "cell_type": "code",
   "execution_count": null,
   "metadata": {
    "vscode": {
     "languageId": "r"
    }
   },
   "outputs": [],
   "source": [
    "###############################################################\n",
    "\"\"\"\n",
    "The integration steps are being processed in a subsequent Python notebook. \n",
    "\n",
    "\"\"\""
   ]
  }
 ],
 "metadata": {
  "kernelspec": {
   "display_name": "R",
   "language": "R",
   "name": "ir"
  },
  "language_info": {
   "codemirror_mode": "r",
   "file_extension": ".r",
   "mimetype": "text/x-r-source",
   "name": "R",
   "pygments_lexer": "r",
   "version": "4.4.1"
  }
 },
 "nbformat": 4,
 "nbformat_minor": 2
}
